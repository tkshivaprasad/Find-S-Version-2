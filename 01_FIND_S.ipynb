{
  "nbformat": 4,
  "nbformat_minor": 0,
  "metadata": {
    "kernelspec": {
      "display_name": "Python 3",
      "language": "python",
      "name": "python3"
    },
    "language_info": {
      "codemirror_mode": {
        "name": "ipython",
        "version": 3
      },
      "file_extension": ".py",
      "mimetype": "text/x-python",
      "name": "python",
      "nbconvert_exporter": "python",
      "pygments_lexer": "ipython3",
      "version": "3.6.2"
    },
    "colab": {
      "name": "01. FIND-S.ipynb",
      "provenance": []
    }
  },
  "cells": [
    {
      "cell_type": "code",
      "metadata": {
        "id": "SkIIusBIxWIB",
        "outputId": "d707f158-cc6b-40f5-add7-670d5ebe283b"
      },
      "source": [
        "from pandas import DataFrame \n",
        "data = DataFrame.from_csv('EnjoySport.csv')#ensure csv file exists in the same folder as the python code.\n",
        "columnLength= data.shape[1]                #obtain number of columns\n",
        "print (data)"
      ],
      "execution_count": null,
      "outputs": [
        {
          "output_type": "stream",
          "text": [
            "         sky airTemp humidity    wind water forecast enjoySport\n",
            "Sl.No                                                          \n",
            "0      sunny    warm   normal  strong  warm     same        yes\n",
            "1      sunny    warm     high  strong  warm     same        yes\n",
            "2      rainy    cold     high  strong  warm   change         no\n",
            "3      sunny    warm     high  strong  cool   change        yes\n"
          ],
          "name": "stdout"
        }
      ]
    },
    {
      "cell_type": "code",
      "metadata": {
        "id": "NjeKZZmNxWIJ"
      },
      "source": [
        "h = ['0']*(columnLength-1)\n",
        "hp=[]                               #initialize list hp i.e list of hypotheses for positive training examples\n",
        "hn=[]"
      ],
      "execution_count": null,
      "outputs": []
    },
    {
      "cell_type": "code",
      "metadata": {
        "id": "1uw2NewNxWIN"
      },
      "source": [
        "for trainingExample in data.values: #this loop is used to build the hypothesis list for every row.\n",
        "    if trainingExample[-1]!='no':   #if the trainingExample is positive, then it is appended to hp else to hn\n",
        "        hp.append(list(trainingExample))\n",
        "    else:\n",
        "        hn.append(list(trainingExample))"
      ],
      "execution_count": null,
      "outputs": []
    },
    {
      "cell_type": "code",
      "metadata": {
        "id": "DANa1AFSxWIS"
      },
      "source": [
        "for i in range (len(hp)):            #update the hypothesis h from most specific to maximally specific\n",
        "    for j in range(columnLength-1):  #if the hypothesis attribute value is 0, it is updated to the attributes in the first hypothesis\n",
        "        if (h[j]=='0'):\n",
        "            h[j]=hp[i][j]\n",
        "        if (h[j]!=hp[i][j]):        #if the attribute value in the hypothesis is not same as the attribute value in the successive hypotheses\n",
        "            h[j]='?'                #then it is updated to '?' indicating that any value is acceptable.\n",
        "        else:                       #if the attribute in the hypothesis is the same as the attribute value in the successive hypotheses\n",
        "            h[j]=hp[i][j]"
      ],
      "execution_count": null,
      "outputs": []
    },
    {
      "cell_type": "code",
      "metadata": {
        "id": "D7V-ksJCxWIZ",
        "outputId": "4d8f4c19-09a2-4502-9f45-9aeab72fb030"
      },
      "source": [
        "print('\\nThe positive Hypotheses are')\n",
        "print(hp)\n",
        "print('\\nThe negative Hypotheses are')\n",
        "print(hn)\n",
        "print('\\nThe Maximally Specific Hypothesis h is')\n",
        "print(h)"
      ],
      "execution_count": null,
      "outputs": [
        {
          "output_type": "stream",
          "text": [
            "\n",
            "The positive Hypotheses are\n",
            "[['sunny', 'warm', 'normal', 'strong', 'warm', 'same', 'yes'], ['sunny', 'warm', 'high', 'strong', 'warm', 'same', 'yes'], ['sunny', 'warm', 'high', 'strong', 'cool', 'change', 'yes']]\n",
            "\n",
            "The negative Hypotheses are\n",
            "[['rainy', 'cold', 'high', 'strong', 'warm', 'change', 'no']]\n",
            "\n",
            "The Maximally Specific Hypothesis h is\n",
            "['sunny', 'warm', '?', 'strong', '?', '?']\n"
          ],
          "name": "stdout"
        }
      ]
    },
    {
      "cell_type": "code",
      "metadata": {
        "id": "njpK8RDjxWId"
      },
      "source": [
        ""
      ],
      "execution_count": null,
      "outputs": []
    }
  ]
}